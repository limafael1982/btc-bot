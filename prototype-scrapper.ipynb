{
 "cells": [
  {
   "cell_type": "code",
   "execution_count": 1,
   "metadata": {},
   "outputs": [],
   "source": [
    "from datetime import datetime\n",
    "from os import path\n",
    "from pathlib import Path\n",
    "from re import sub\n",
    "\n",
    "from lxml import html\n",
    "from pandas import DataFrame\n",
    "from requests import get"
   ]
  },
  {
   "cell_type": "code",
   "execution_count": 2,
   "metadata": {},
   "outputs": [],
   "source": [
    "def clear_row(value: str) -> str:\n",
    "    return sub('\\n', '', value).strip()\n",
    "\n",
    "\n",
    "def clear_float(value: str) -> float:\n",
    "    return float(value.replace(',', '').strip())\n",
    "\n",
    "\n",
    "def remove_currency(currency: str) -> str:\n",
    "    return lambda v: v.replace(currency, '').strip()\n",
    "\n",
    "\n",
    "def get_timestamp():\n",
    "    return datetime.now().strftime('%Y-%m-%dT%H:%M:%S')\n",
    "\n",
    "\n",
    "def parse_response(response: str, timestamp: str) -> DataFrame:\n",
    "    tree = html.fromstring(response)\n",
    "\n",
    "    rows = []\n",
    "\n",
    "    for row in tree.xpath('//table/tr')[1:]:\n",
    "        cols = row.xpath('td')\n",
    "\n",
    "        user_name = cols[0].xpath('a/text()')[0]\n",
    "        user_profile = cols[0].xpath('a/@href')[0]\n",
    "\n",
    "        payment_method = clear_row(' '.join(cols[1].xpath('text()')))\n",
    "        payment_method_url = cols[1].xpath('a/@href')[0]\n",
    "\n",
    "        price = clear_row(' '.join(cols[2].xpath('text()')))\n",
    "\n",
    "        currency = price.rsplit(' ', 1)[-1]\n",
    "        currency_cleaner = remove_currency(currency)\n",
    "\n",
    "        price = clear_float(currency_cleaner(price))\n",
    "\n",
    "        limits = currency_cleaner(clear_row(' '.join(cols[3].xpath('text()'))))\n",
    "\n",
    "        if not limits:\n",
    "            limits_min, limits_max = 0, 0\n",
    "        else:\n",
    "            limits = list(map(clear_float, limits.split('-')))\n",
    "            limits_min = limits[0]\n",
    "            limits_max = limits[1]\n",
    "\n",
    "        rows.append({\n",
    "            'timestamp': timestamp,\n",
    "            'user_name': user_name,\n",
    "            'user_profile': user_profile,\n",
    "            'payment_method': payment_method,\n",
    "            'payment_method_url': payment_method_url,\n",
    "            'price': price,\n",
    "            'limits_min': limits_min,\n",
    "            'limits_max': limits_max,\n",
    "            'currency': currency\n",
    "        })\n",
    "    return DataFrame(rows)\n"
   ]
  },
  {
   "cell_type": "code",
   "execution_count": 3,
   "metadata": {},
   "outputs": [],
   "source": [
    "local_dir = 'data'\n",
    "Path('data').mkdir(parents=True, exist_ok=True)"
   ]
  },
  {
   "cell_type": "code",
   "execution_count": 4,
   "metadata": {},
   "outputs": [],
   "source": [
    "sellers_url = ('sellers', 'https://localbitcoins.com/buy-bitcoins-online/nl/netherlands/')\n",
    "buyers_url  = ('buyers', 'https://localbitcoins.com/sell-bitcoins-online/nl/netherlands/')"
   ]
  },
  {
   "cell_type": "code",
   "execution_count": 5,
   "metadata": {},
   "outputs": [],
   "source": [
    "for side, url in [sellers_url, buyers_url]:\n",
    "    timestamp = get_timestamp()\n",
    "    filename = path.join(local_dir, f'{side}_{timestamp}.csv')\n",
    "    response = get(url)\n",
    "    df = parse_response(response.text, timestamp)\n",
    "    df.to_csv(filename, index=False, sep=\",\", quotechar='\"')"
   ]
  },
  {
   "cell_type": "code",
   "execution_count": null,
   "metadata": {},
   "outputs": [],
   "source": []
  }
 ],
 "metadata": {
  "kernelspec": {
   "display_name": "Python 3",
   "language": "python",
   "name": "python3"
  },
  "language_info": {
   "codemirror_mode": {
    "name": "ipython",
    "version": 3
   },
   "file_extension": ".py",
   "mimetype": "text/x-python",
   "name": "python",
   "nbconvert_exporter": "python",
   "pygments_lexer": "ipython3",
   "version": "3.8.6"
  }
 },
 "nbformat": 4,
 "nbformat_minor": 4
}
